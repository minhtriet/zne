{
 "cells": [
  {
   "cell_type": "markdown",
   "id": "61dd6050-e72f-4cdc-9be8-b9e0f9f2ffcb",
   "metadata": {},
   "source": [
    "Zero Noise Extrapolation (ZNE) is a powerful technique in quantum computing aimed at mitigating errors arising from noise and imperfections in quantum hardware. By leveraging measurements from noisy quantum circuits, ZNE algorithms can estimate and correct errors, ultimately enhancing the reliability and accuracy of quantum computations.\n",
    "\n",
    "In this notebook, I \n",
    "- Implement ZNE from scratch\n",
    "- Compare with the result of reference Mitiq implementation \n",
    "- Experiment with ZNE algorithms to optimize its hyperparameters\n",
    "\n",
    "ℹ️ ℹ️ ℹ️ Readers can modify the `circuit` variable of cell 1 to switch between implemented circuits ℹ️ ℹ️ ℹ️"
   ]
  },
  {
   "cell_type": "code",
   "execution_count": 1,
   "id": "55adcac6-26ef-487c-9301-8b556771b787",
   "metadata": {},
   "outputs": [],
   "source": [
    "import matplotlib.pyplot as plt\n",
    "plt.rcParams['figure.dpi'] = 600\n",
    "plt.rcParams['savefig.dpi'] = 600\n",
    "\n",
    "import pennylane as qml\n",
    "import pennylane.numpy as np\n",
    "from mitiq.zne.inference import LinearFactory, RichardsonFactory, ExpFactory\n",
    "from mitiq.zne.scaling import fold_global\n",
    "import pandas as pd\n",
    "\n",
    "import util\n",
    "\n",
    "# change this\n",
    "circuit = util.circuit_bell_state   # can change to [util.circuit_bell_state, util.circuit_hamiltonian]\n",
    "\n",
    "\n",
    "SIMULATION_MODE = True    # running from local or real hardware\n",
    "noise_strengths = np.linspace(0.0,1.0,11)\n",
    "scale_factors = range(4,7)   # at least 4 for exponential extrapolation, due to range of python doesn't include the last element, starting from 3 means the list of scale factors will be range(1,3) = [1,2]\n",
    "ibmqx_token=\"xxx\""
   ]
  },
  {
   "cell_type": "code",
   "execution_count": 2,
   "id": "b603a1e8-efc2-4160-8ed9-10ca9b344a92",
   "metadata": {},
   "outputs": [],
   "source": [
    "if circuit == util.circuit_hamiltonian:\n",
    "    wires = 2\n",
    "elif circuit == util.circuit_bell_state:\n",
    "    wires = 2\n",
    "else:\n",
    "    raise ValueError(\"Unsupported circuit\")"
   ]
  },
  {
   "cell_type": "markdown",
   "id": "d40b24df-6461-4c8c-9e13-6588c49f0705",
   "metadata": {},
   "source": [
    "##  Build a simple noise model with depolarizing noise"
   ]
  },
  {
   "cell_type": "code",
   "execution_count": 3,
   "id": "eb8bdd17-d715-4b2b-b0a0-325abfbc2b56",
   "metadata": {},
   "outputs": [],
   "source": [
    "if SIMULATION_MODE:\n",
    "    dev_noise_free = qml.device(\"default.mixed\", wires=wires)\n",
    "    devs = [qml.transforms.insert(dev_noise_free,\n",
    "                                  qml.DepolarizingChannel,\n",
    "                                  noise_strength) \n",
    "            for noise_strength in noise_strengths]\n",
    "else:\n",
    "    dev = qml.device('qiskit.ibmq', wires=wires, \n",
    "                     backend='ibm_kyoto', ibmqx_token=ibmqx_token)\n",
    "noise_less_dev = qml.device(\"default.qubit\", wires=wires)"
   ]
  },
  {
   "cell_type": "markdown",
   "id": "e097a02c-0c2d-47d2-bdc1-fcb6a7b8ae6b",
   "metadata": {},
   "source": [
    "## Apply folding method and different extrapolation"
   ]
  },
  {
   "cell_type": "markdown",
   "id": "77c42cc4-496d-4b98-868f-42b18528f409",
   "metadata": {},
   "source": [
    "We define `results` dataframe to save our experiments. It will have the structure like this\n",
    "\n",
    "|    |   scale_factor |   noise_strength | extrapolation_type   |    value |\n",
    "|---:|---------------:|-----------------:|:---------------------|---------:|\n",
    "|  0 |              1 |              0.1 | linear               | 0.375556 |\n",
    "|  1 |              1 |              0.1 | polynomial           | 0.375556 |\n",
    "|  2 |              1 |              0.1 | reference_polynomial | 0.375556 |\n",
    "\n"
   ]
  },
  {
   "cell_type": "code",
   "execution_count": 4,
   "id": "ff947884-95ac-4814-97d1-9bef90982fe6",
   "metadata": {
    "scrolled": true
   },
   "outputs": [],
   "source": [
    "dict_list = []\n",
    "for i_dev, dev in enumerate(devs):   # noise level loop\n",
    "    noise_lvl = noise_strengths[i_dev]\n",
    "    device_circuit = qml.QNode(circuit, dev)\n",
    "    for max_scale_factor in scale_factors:   # max scale factor loop\n",
    "        # unitary folding\n",
    "        result_per_noise_level = []\n",
    "        for scale_factor in range(1, max_scale_factor):   # loop from 1 to current max scale factor\n",
    "            ops, measurements = util.unitary_fold(device_circuit, scale_factor)\n",
    "            folded_circuit = util.circuit_from_ops(dev, ops, measurements)\n",
    "            result_per_noise_level.append(float(folded_circuit))\n",
    "        # done unitary folding\n",
    "\n",
    "        # without zne\n",
    "        dict_list.append(util.create_record('non_zne', noise_lvl, max_scale_factor, device_circuit()))\n",
    "        \n",
    "        # extrapolation with the scale factors up to i_scale+1 and current result_per_noise_level        \n",
    "        dict_list.append(util.create_record('linear', noise_lvl, max_scale_factor,\n",
    "                      float(util.linear_extrapolation(range(1, max_scale_factor), result_per_noise_level))))\n",
    "        # dict_list.append(util.create_record('exp', noise_lvl, max_scale_factor,\n",
    "                         # float(util.exponential_extrapolation(range(1, max_scale_factor), result_per_noise_level))))\n",
    "        dict_list.append(util.create_record('polynomial', noise_lvl, max_scale_factor,\n",
    "                        float(util.polynomial_extrapolation(range(1, max_scale_factor), result_per_noise_level, max_scale_factor-2))))  # scale_factor is in range(1, scale_factor), so its max value is scale_factor-1. Now we -1 once more because of the math in polynomial extrapolation\n",
    "        \n",
    "        # reference implementation\n",
    "        error_mitigated_device_circuit = util.get_reference_extrapolation(device_circuit, max_scale_factor, fold_global, LinearFactory.extrapolate)\n",
    "        dict_list.append(util.create_record('reference_linear', noise_lvl, max_scale_factor,\n",
    "                         float(error_mitigated_device_circuit())))\n",
    "        error_mitigated_device_circuit = util.get_reference_extrapolation(device_circuit, max_scale_factor, fold_global, RichardsonFactory.extrapolate)\n",
    "        dict_list.append(util.create_record('reference_polynomial', noise_lvl, max_scale_factor,\n",
    "                         float(error_mitigated_device_circuit())))\n",
    "        # error_mitigated_device_circuit = util.get_reference_extrapolation(device_circuit, max_scale_factor, fold_global, ExpFactory.extrapolate)\n",
    "        # dict_list.append(util.create_record('reference_exp', noise_lvl, max_scale_factor,\n",
    "                         # float(error_mitigated_device_circuit())))"
   ]
  },
  {
   "cell_type": "code",
   "execution_count": 5,
   "id": "2cb56616-3d4c-4a3d-8eab-455a9532c11e",
   "metadata": {},
   "outputs": [],
   "source": [
    "results = pd.DataFrame(dict_list)"
   ]
  },
  {
   "cell_type": "markdown",
   "id": "60391ba0-8d30-4075-94db-9fa579ce9e1a",
   "metadata": {},
   "source": [
    "## Research questions\n",
    "\n",
    "Given a circuit and the noise stregth, it is interesting to see how many fold and which  method to use. To answer that we would plot the `results` dataframe"
   ]
  },
  {
   "cell_type": "code",
   "execution_count": 7,
   "id": "a8590481-ce34-4bcc-a8c8-66a848beaca7",
   "metadata": {},
   "outputs": [],
   "source": [
    "results['noise_strength'] = results['noise_strength'].astype(float)\n",
    "results['value'] = results['value'].astype(float)"
   ]
  },
  {
   "cell_type": "code",
   "execution_count": 8,
   "id": "8b3c8fb1-84c1-46dc-bc09-c242fd37f16f",
   "metadata": {},
   "outputs": [],
   "source": [
    "line_style_plot = {\n",
    "    'non_zne': ':',\n",
    "    'reference_linear': '--',\n",
    "    'reference_exp': '--',\n",
    "    'reference_polynomial': '--',\n",
    "    'polynomial': '-',\n",
    "    'linear': '-',\n",
    "    'exp': '-'\n",
    "}\n",
    "\n",
    "linewidth_plot = {\n",
    "    'non_zne': 5,    \n",
    "    'reference_linear': 5,\n",
    "    'reference_exp': 5,    \n",
    "    'reference_polynomial': 5,\n",
    "    'polynomial': 1,\n",
    "    'linear': 1,\n",
    "    'exp': 1\n",
    "}\n",
    "\n",
    "alpha_plot = {\n",
    "    'non_zne': 1,\n",
    "    'reference_linear': 0.2,\n",
    "    'reference_exp': 0.2,\n",
    "    'reference_polynomial': 0.2,\n",
    "    'polynomial': 1,\n",
    "    'linear': 1,\n",
    "    'exp': 1    \n",
    "}\n",
    "\n",
    "color_plot = {\n",
    "    'non_zne': 'orange',\n",
    "    'reference_linear': 'green',\n",
    "    'reference_exp': 'blue',\n",
    "    'reference_polynomial': 'red',\n",
    "    'polynomial': 'red',\n",
    "    'linear': 'green',\n",
    "    'exp': 'blue'\n",
    "}"
   ]
  },
  {
   "cell_type": "code",
   "execution_count": 9,
   "id": "5c3d235b-a5bf-4b3a-a977-fee3645d3b83",
   "metadata": {},
   "outputs": [],
   "source": [
    "ideal_result = qml.QNode(circuit, noise_less_dev)()"
   ]
  },
  {
   "cell_type": "code",
   "execution_count": null,
   "id": "5b52bee8-1d6f-49e6-815d-e70c40ce21ac",
   "metadata": {},
   "outputs": [],
   "source": [
    "fig, axs = plt.subplots(nrows=len(scale_factors), ncols=1, sharex=True)\n",
    "\n",
    "# Plot data for each 'extrapolation_type'\n",
    "for s_factor_index, s_factor in enumerate(scale_factors):\n",
    "    for extrapolation_type in set(results['extrapolation_type']):\n",
    "        df = results[(results['extrapolation_type'] == extrapolation_type) & (results[\"scale_factor\"] == s_factor)]\n",
    "        df.plot(x='noise_strength', y='value', figsize=(8, 12), ax=axs[s_factor_index], \n",
    "                label=extrapolation_type, linestyle=line_style_plot[extrapolation_type],\n",
    "                linewidth=linewidth_plot[extrapolation_type], alpha=alpha_plot[extrapolation_type],\n",
    "                color=color_plot[extrapolation_type],\n",
    "               )    \n",
    "    axs[s_factor_index].axhline(y = ideal_result, color = 'black', linestyle = '-', label=\"Zero noise result\") \n",
    "    axs[s_factor_index].set_title(f'Scale factor = {s_factor-1}. True value: {ideal_result}')\n",
    "    axs[s_factor_index].xaxis.set_major_formatter(plt.FormatStrFormatter(\"%.1f\"))\n",
    "    axs[s_factor_index].set_ylabel(\"'expectation value\")\n",
    "    \n",
    "\n",
    "plt.xlabel(\"Noise Strength\")\n",
    "fig.suptitle(\"Measurements change with different scale factor\", fontsize=14)\n",
    "plt.tight_layout()\n",
    "\n",
    "plt.show()"
   ]
  },
  {
   "cell_type": "markdown",
   "id": "5782d11b-f600-43c7-85d1-49e771653c0b",
   "metadata": {},
   "source": [
    "### Bell circuit\n",
    "\n",
    "By visually inspecting, the higher the noise, the more fold the polynomial (Richardson) needs to get the expected result.\n",
    "\n",
    "In the plot above, the orange line is the expected value if there are no noise in the circuit. The higher the scale factor, the more overestimate it is for at the lower noise strength\n",
    "\n",
    "The polynomial and linear regression always overlaps on the Miqtiq implementation. However it is not the case in the next circuit.\n",
    "\n",
    "### Hamiltonian circuit (if in cell 1, `circuit = util.hamilton_circuit`\n",
    "Here would explain why at small scale factors, the results are different but it is the same in the higher orders\n",
    "\n",
    "Original circuit (3 Operator, 1 measurement. Total = 4)\n",
    "```\n",
    "0: ─╭●─────╭●─┤     \n",
    "1: ─╰X──RZ─╰X─┤  <Z>\n",
    "```\n",
    "\n",
    "**For scale factor of 2**\n",
    "\n",
    "Reference implementation (7 Operators, 1 measurement. Total = 8)\n",
    "```\n",
    "0: ─╭●─────╭●─╭●─────────╭●─┤     \n",
    "1: ─╰X──RZ─╰X─╰X──RZ──RZ─╰X─┤  <Z>\n",
    "```\n",
    "\n",
    "My implementation (5 Operators, closest to original circuit's operator 3*2)\n",
    "```\n",
    "0: ─╭●─────╭●─╭●──╭●─┤     \n",
    "1: ─╰X──RZ─╰X─╰X†─╰X─┤  <Z>\n",
    "```\n",
    "\n",
    "The difference is because in a Pennylane circuit, its `operations()`, which are the `CNOT` and `RZ`, and `measurements()`, which is the `<Z>` are two different properties. \n",
    "\n",
    "Looks like Mytiq implementation multiply by the total length of operations and measurements, while I considered only the length of the operators \n",
    "\n",
    "Therefore, in bigger scale factor, this difference reduces as length of operations dominates the length of measurements.\n",
    "\n",
    "### Revisiting Bell Circuit"
   ]
  },
  {
   "cell_type": "code",
   "execution_count": null,
   "id": "21856377-3047-4b83-b53e-6c8606191e71",
   "metadata": {},
   "outputs": [],
   "source": []
  }
 ],
 "metadata": {
  "kernelspec": {
   "display_name": "Python 3 (ipykernel)",
   "language": "python",
   "name": "python3"
  },
  "language_info": {
   "codemirror_mode": {
    "name": "ipython",
    "version": 3
   },
   "file_extension": ".py",
   "mimetype": "text/x-python",
   "name": "python",
   "nbconvert_exporter": "python",
   "pygments_lexer": "ipython3",
   "version": "3.9.12"
  }
 },
 "nbformat": 4,
 "nbformat_minor": 5
}
