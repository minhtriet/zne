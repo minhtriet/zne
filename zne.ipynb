{
 "cells": [
  {
   "cell_type": "code",
   "execution_count": 1,
   "id": "55adcac6-26ef-487c-9301-8b556771b787",
   "metadata": {},
   "outputs": [],
   "source": [
    "import pennylane as qml\n",
    "from qiskit_ibm_provider import IBMProvider\n",
    "from mitiq.zne.inference import RichardsonFactory\n",
    "from mitiq.zne.scaling import fold_global\n",
    "SIMULATION_MODE = True"
   ]
  },
  {
   "cell_type": "markdown",
   "id": "d40b24df-6461-4c8c-9e13-6588c49f0705",
   "metadata": {},
   "source": [
    "##  Build a simple noise model with depolarizing noise"
   ]
  },
  {
   "cell_type": "code",
   "execution_count": 2,
   "id": "eb8bdd17-d715-4b2b-b0a0-325abfbc2b56",
   "metadata": {},
   "outputs": [],
   "source": [
    "if SIMULATION_MODE:\n",
    "    noise_strength = 0.05\n",
    "    dev_noise_free = qml.device(\"default.mixed\", wires=2)\n",
    "    dev = qml.transforms.insert(\n",
    "        dev_noise_free,\n",
    "        qml.DepolarizingChannel,\n",
    "        noise_strength\n",
    "    )\n",
    "elif IBMProvider.saved_accounts() and USE_REAL_HARDWARE:\n",
    "    provider = IBMProvider()\n",
    "    dev = qml.device(\n",
    "        \"qiskit.ibmq\",\n",
    "        wires=2,\n",
    "        backend=\"ibmq_qasm_simulator\",\n",
    "        provider=provider\n",
    "    )    "
   ]
  },
  {
   "cell_type": "code",
   "execution_count": 3,
   "id": "602310c8-45c5-404e-badf-f114e3458bec",
   "metadata": {},
   "outputs": [],
   "source": [
    "def circuit():\n",
    "    \"\"\"\n",
    "    @A circuit modelling the effect of depolarizing noise in preparing a Bell state\n",
    "    \"\"\"\n",
    "    qml.Hadamard(wires=0)\n",
    "    qml.CNOT(wires=[0, 1])\n",
    "    return qml.expval(qml.PauliZ(0) @ qml.PauliZ(1))"
   ]
  },
  {
   "cell_type": "markdown",
   "id": "5a83aa7e-2d3c-4e5f-933f-b7f7606d616e",
   "metadata": {},
   "source": [
    "Zero-noise extrapolation (ZNE) is a noise mitigation technique. It works by intentionally scaling the noise of a quantum circuit to then extrapolate the zero-noise limit of an observable of interest. In this task, you will build a simple ZNE function from scratch:\n",
    "\n",
    "- [x] Build a simple noise model with depolarizing noise \n",
    "- [ ] Create different circuits to test your noise models and choose the observable to measure \n",
    "- [ ] Apply the unitary folding method. \n",
    "- [ ] Apply the extrapolation method to get the zero-noise limit. Different extrapolation methods achieve different results, such as Linear, polynomial, and exponential.\n",
    "- [ ] Compare mitigated and unmitigated results \n",
    "- [ ] Bonus: Run your ZNE function in real quantum hardware through the IBM Quantum Service\n",
    "\n",
    "Check the Mitiq documentation for references. You are not allowed to use the functions from Mitiq or any other frameworks where ZNE is already implemented. \n"
   ]
  },
  {
   "cell_type": "code",
   "execution_count": 4,
   "id": "734aaf2b-109b-403c-a43e-d6711f8acb46",
   "metadata": {},
   "outputs": [],
   "source": [
    "scale_factors = [1, 2, 3]\n",
    "\n",
    "device_circuit = qml.QNode(circuit, dev)\n",
    "error_mitigated_device_circuit = qml.transforms.mitigate_with_zne(\n",
    "    device_circuit,\n",
    "    scale_factors,\n",
    "    folding = fold_global,    \n",
    "    extrapolate = RichardsonFactory.extrapolate,\n",
    ")"
   ]
  },
  {
   "cell_type": "code",
   "execution_count": 6,
   "id": "8d428e10-2c17-43ba-971b-49cbb3939318",
   "metadata": {},
   "outputs": [
    {
     "name": "stdout",
     "output_type": "stream",
     "text": [
      "Unmitigated result 0.8711111111111454\n",
      "Mitigated result   1.1968421399177436\n"
     ]
    }
   ],
   "source": [
    "unmitigated = device_circuit()\n",
    "mitigated = error_mitigated_device_circuit()\n",
    "print(f\"Unmitigated result {unmitigated}\")\n",
    "print(f\"Mitigated result   {mitigated}\")"
   ]
  },
  {
   "cell_type": "markdown",
   "id": "8620335d-be68-44aa-98c3-a7b31d761b4f",
   "metadata": {},
   "source": [
    "As the ideal, desired result is 1.000, the mitigated result performs much better than unmitigated."
   ]
  },
  {
   "cell_type": "markdown",
   "id": "048c0e78-db14-4251-9381-be0372c69448",
   "metadata": {},
   "source": [
    "```\n",
    "for extrapolation_method in [...]:\n",
    "\n",
    "```"
   ]
  },
  {
   "cell_type": "code",
   "execution_count": null,
   "id": "1f90500b-3ec9-4491-8d66-df9422e240ce",
   "metadata": {},
   "outputs": [],
   "source": []
  }
 ],
 "metadata": {
  "kernelspec": {
   "display_name": "Python 3 (ipykernel)",
   "language": "python",
   "name": "python3"
  },
  "language_info": {
   "codemirror_mode": {
    "name": "ipython",
    "version": 3
   },
   "file_extension": ".py",
   "mimetype": "text/x-python",
   "name": "python",
   "nbconvert_exporter": "python",
   "pygments_lexer": "ipython3",
   "version": "3.10.9"
  }
 },
 "nbformat": 4,
 "nbformat_minor": 5
}
