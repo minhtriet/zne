{
 "cells": [
  {
   "cell_type": "code",
   "execution_count": 1,
   "id": "55adcac6-26ef-487c-9301-8b556771b787",
   "metadata": {},
   "outputs": [],
   "source": [
    "from typing import List\n",
    "\n",
    "import pennylane as qml\n",
    "from qiskit_ibm_provider import IBMProvider\n",
    "from mitiq.zne.inference import RichardsonFactory\n",
    "from mitiq.zne.scaling import fold_global"
   ]
  },
  {
   "cell_type": "code",
   "execution_count": 2,
   "id": "c06071d4-dcf6-48ff-a8fe-6be06cb3c133",
   "metadata": {},
   "outputs": [],
   "source": [
    "SIMULATION_MODE = True    # running from local or real hardware"
   ]
  },
  {
   "cell_type": "code",
   "execution_count": 3,
   "id": "a89fa0b8-c2f9-429c-b6cb-5c1145f2c36b",
   "metadata": {},
   "outputs": [
    {
     "name": "stdout",
     "output_type": "stream",
     "text": [
      "-----ORIGINAL-----\n",
      "0: ───H───@───────\n",
      "          │\n",
      "1: ───────X───@───\n",
      "              │\n",
      "2: ───────────X───\n",
      "\n",
      "-----------------FOLDING------------------\n",
      "2\n",
      "0: ───H───@───────────@───@───────\n",
      "          │           │   │\n",
      "1: ───────X───@───@───X───X───@───\n",
      "              │   │           │\n",
      "2: ───────────X───X───────────X───\n",
      "\n",
      "3\n",
      "0: ───H───@───────────@───H───H───@───────\n",
      "          │           │           │\n",
      "1: ───────X───@───@───X───────────X───@───\n",
      "              │   │                   │\n",
      "2: ───────────X───X───────────────────X───\n",
      "\n",
      "4\n",
      "0: ───H───@───────────@───H───H───@───────────@───@───────\n",
      "          │           │           │           │   │\n",
      "1: ───────X───@───@───X───────────X───@───@───X───X───@───\n",
      "              │   │                   │   │           │\n",
      "2: ───────────X───X───────────────────X───X───────────X───\n",
      "\n",
      "5\n",
      "0: ───H───@───────────@───H───H───@───────────@───H───H───@───────\n",
      "          │           │           │           │           │\n",
      "1: ───────X───@───@───X───────────X───@───@───X───────────X───@───\n",
      "              │   │                   │   │                   │\n",
      "2: ───────────X───X───────────────────X───X───────────────────X───\n",
      "\n",
      "6\n",
      "0: ───H───@───────────@───H───H───@───────────@───H───H───@───────────@───@───────\n",
      "          │           │           │           │           │           │   │\n",
      "1: ───────X───@───@───X───────────X───@───@───X───────────X───@───@───X───X───@───\n",
      "              │   │                   │   │                   │   │           │\n",
      "2: ───────────X───X───────────────────X───X───────────────────X───X───────────X───\n",
      "\n",
      "7\n",
      "0: ───H───@───────────@───H───H───@───────────@───H───H───@───────────@───H───H───@───────\n",
      "          │           │           │           │           │           │           │\n",
      "1: ───────X───@───@───X───────────X───@───@───X───────────X───@───@───X───────────X───@───\n",
      "              │   │                   │   │                   │   │                   │\n",
      "2: ───────────X───X───────────────────X───X───────────────────X───X───────────────────X───\n",
      "\n"
     ]
    }
   ],
   "source": [
    "from mitiq.benchmarks import generate_ghz_circuit\n",
    "from mitiq.zne.scaling import insert_id_layers, fold_global\n",
    "\n",
    "demo = generate_ghz_circuit(3)\n",
    "\n",
    "\n",
    "print(\"-----ORIGINAL-----\")\n",
    "print(demo)\n",
    "print(\"\\n-----------------FOLDING------------------\")\n",
    "for f in range(2,8):\n",
    "    print(f)\n",
    "    print(fold_global(demo, f))\n",
    "    print()"
   ]
  },
  {
   "cell_type": "markdown",
   "id": "d40b24df-6461-4c8c-9e13-6588c49f0705",
   "metadata": {},
   "source": [
    "##  Build a simple noise model with depolarizing noise"
   ]
  },
  {
   "cell_type": "code",
   "execution_count": 4,
   "id": "eb8bdd17-d715-4b2b-b0a0-325abfbc2b56",
   "metadata": {},
   "outputs": [],
   "source": [
    "if SIMULATION_MODE:\n",
    "    noise_strength = 0.05\n",
    "    dev_noise_free = qml.device(\"default.mixed\", wires=2)\n",
    "    dev = qml.transforms.insert(\n",
    "        dev_noise_free,\n",
    "        qml.DepolarizingChannel,\n",
    "        noise_strength\n",
    "    )\n",
    "elif IBMProvider.saved_accounts() and USE_REAL_HARDWARE:\n",
    "    provider = IBMProvider()\n",
    "    dev = qml.device(\n",
    "        \"qiskit.ibmq\",\n",
    "        wires=2,\n",
    "        backend=\"ibmq_qasm_simulator\",\n",
    "        provider=provider\n",
    "    )    "
   ]
  },
  {
   "cell_type": "code",
   "execution_count": 5,
   "id": "602310c8-45c5-404e-badf-f114e3458bec",
   "metadata": {},
   "outputs": [],
   "source": [
    "def circuit():\n",
    "    \"\"\"\n",
    "    @A circuit preparing a Bell state\n",
    "    \"\"\"\n",
    "    qml.Hadamard(wires=0)\n",
    "    qml.CNOT(wires=[0, 1])\n",
    "    return qml.expval(qml.PauliZ(0) @ qml.PauliZ(1))"
   ]
  },
  {
   "cell_type": "markdown",
   "id": "5a83aa7e-2d3c-4e5f-933f-b7f7606d616e",
   "metadata": {},
   "source": [
    "Zero-noise extrapolation (ZNE) is a noise mitigation technique. It works by intentionally scaling the noise of a quantum circuit to then extrapolate the zero-noise limit of an observable of interest. In this task, you will build a simple ZNE function from scratch:\n",
    "\n",
    "- [x] Build a simple noise model with depolarizing noise \n",
    "- [x] Create different circuits to test your noise models and choose the observable to measure \n",
    "- [ ] Apply the unitary folding method. \n",
    "- [ ] Apply the extrapolation method to get the zero-noise limit. Different extrapolation methods achieve different results, such as Linear, polynomial, and exponential.\n",
    "- [x] Compare mitigated and unmitigated results \n",
    "- [ ] Bonus: Run your ZNE function in real quantum hardware through the IBM Quantum Service\n",
    "\n",
    "Check the Mitiq documentation for references. You are not allowed to use the functions from Mitiq or any other frameworks where ZNE is already implemented. \n"
   ]
  },
  {
   "cell_type": "markdown",
   "id": "e097a02c-0c2d-47d2-bdc1-fcb6a7b8ae6b",
   "metadata": {},
   "source": [
    "## todo Applying unitary folding method"
   ]
  },
  {
   "cell_type": "markdown",
   "id": "55626201-2b4a-4818-98cc-d5c4398bf3d1",
   "metadata": {},
   "source": [
    "### Implement"
   ]
  },
  {
   "cell_type": "code",
   "execution_count": 27,
   "id": "ef45c9cd-5457-4c44-a7d3-3f6d1666d4a9",
   "metadata": {},
   "outputs": [],
   "source": [
    "def unitary_fold(circuit, scale_factor: int):\n",
    "    # original ops\n",
    "    circuit()\n",
    "    original_ops = circuit.tape.expand().operations\n",
    "    ops = circuit.tape.expand().copy(copy_operations=True).operations\n",
    "    n, s = divmod(scale_factor - 1, 2)\n",
    "    \n",
    "    # take all the gate, append and complex conjugate\n",
    "    # For the 1st part  (U^H U)**n\n",
    "    for i in range(n):\n",
    "        for op in original_ops[::-1]:\n",
    "            ops.append(qml.adjoint(op))\n",
    "        for op in original_ops:\n",
    "            ops.append(op)\n",
    "    \n",
    "    # For the 2nd part (L_d^H .. L_s^H) (L_s .. L_d)\n",
    "    last_layers = original_ops[-s:]\n",
    "    for op in last_layers[::-1]:\n",
    "        ops.append(qml.adjoint(op))\n",
    "    for i in last_layers:\n",
    "        ops.append(op)\n",
    "\n",
    "    # Return list of op to create the circuit\n",
    "    return ops, circuit.tape.measurements"
   ]
  },
  {
   "cell_type": "code",
   "execution_count": 101,
   "id": "ff947884-95ac-4814-97d1-9bef90982fe6",
   "metadata": {},
   "outputs": [],
   "source": [
    "@qml.qnode(dev)\n",
    "def circuit_from_ops(operations: List, measurements: List):\n",
    "    for op in operations:\n",
    "        qml.apply(op)\n",
    "    return qml.apply(measurements[0])"
   ]
  },
  {
   "cell_type": "code",
   "execution_count": 104,
   "id": "e1ea162d-ac08-477d-bc61-82d1f0e07887",
   "metadata": {},
   "outputs": [
    {
     "data": {
      "text/plain": [
       "array(0.7082456)"
      ]
     },
     "execution_count": 104,
     "metadata": {},
     "output_type": "execute_result"
    }
   ],
   "source": [
    "device_circuit = qml.QNode(circuit, dev)\n",
    "ops, measurements = unitary_fold(device_circuit, 2)\n",
    "circuit_from_ops(ops, measurements)"
   ]
  },
  {
   "cell_type": "code",
   "execution_count": 105,
   "id": "e177727c-772d-47cd-893e-98cab549205c",
   "metadata": {},
   "outputs": [
    {
     "data": {
      "text/plain": [
       "tensor(0.87111111, requires_grad=True)"
      ]
     },
     "execution_count": 105,
     "metadata": {},
     "output_type": "execute_result"
    }
   ],
   "source": [
    "device_circuit()"
   ]
  },
  {
   "cell_type": "code",
   "execution_count": 106,
   "id": "18c0b9af-9999-4d15-ae82-8ecd456d3683",
   "metadata": {},
   "outputs": [
    {
     "data": {
      "text/plain": [
       "array(0.7082456)"
      ]
     },
     "execution_count": 106,
     "metadata": {},
     "output_type": "execute_result"
    }
   ],
   "source": [
    "circuit_from_ops(ops, measurements)"
   ]
  },
  {
   "cell_type": "code",
   "execution_count": 107,
   "id": "9f9680e6-58f3-44d0-8a8e-006112acd67f",
   "metadata": {},
   "outputs": [
    {
     "name": "stdout",
     "output_type": "stream",
     "text": [
      "0: ──Rϕ(1.57)──RX(1.57)──Rϕ(1.57)─╭●─╭●──╭●─┤ ╭<Z@Z>\n",
      "1: ───────────────────────────────╰X─╰X†─╰X─┤ ╰<Z@Z>\n"
     ]
    }
   ],
   "source": [
    "print(qml.draw(circuit_from_ops)(ops, measurements))"
   ]
  },
  {
   "cell_type": "markdown",
   "id": "e1d028bc-d1a7-47f8-8242-c46116d67505",
   "metadata": {
    "jp-MarkdownHeadingCollapsed": true
   },
   "source": [
    "### Test the implementation"
   ]
  },
  {
   "cell_type": "markdown",
   "id": "1e3ddbfd-ac13-46b5-91c8-a916b878ebdd",
   "metadata": {},
   "source": [
    "## todo Linear, polynomial, and exponential extrapolation"
   ]
  },
  {
   "cell_type": "markdown",
   "id": "12aa96de-782a-481b-8c77-1dc1ffb071b0",
   "metadata": {},
   "source": [
    "## Create a reference ZNE mitigated circuit"
   ]
  },
  {
   "cell_type": "code",
   "execution_count": null,
   "id": "83abb5c6-91b4-4687-b281-f9d5a57bedbf",
   "metadata": {},
   "outputs": [],
   "source": [
    "scale_factors = [1,2,3,4,5,6,7,8]\n",
    "\n",
    "error_mitigated_device_circuit = qml.transforms.mitigate_with_zne(\n",
    "    device_circuit,\n",
    "    scale_factors,\n",
    "    folding = fold_global,    \n",
    "    extrapolate = RichardsonFactory.extrapolate,\n",
    ")"
   ]
  },
  {
   "cell_type": "markdown",
   "id": "c16e0927-2c6c-4898-b404-59feecd8faf4",
   "metadata": {},
   "source": [
    "## Compare the results between noisy circuit, reference method, and implemented method"
   ]
  },
  {
   "cell_type": "code",
   "execution_count": null,
   "id": "8d428e10-2c17-43ba-971b-49cbb3939318",
   "metadata": {},
   "outputs": [],
   "source": [
    "unmitigated = device_circuit()\n",
    "mitigated = error_mitigated_device_circuit()\n",
    "print(f\"Unmitigated result {unmitigated}\")\n",
    "print(f\"Mitigated result   {mitigated}\")"
   ]
  },
  {
   "cell_type": "code",
   "execution_count": null,
   "id": "9cf5e929-4592-4057-bcb5-21cf36e4eab4",
   "metadata": {},
   "outputs": [],
   "source": [
    "print(qml.draw(error_mitigated_device_circuit)())"
   ]
  },
  {
   "cell_type": "markdown",
   "id": "8620335d-be68-44aa-98c3-a7b31d761b4f",
   "metadata": {},
   "source": [
    "As the ideal, desired result is 1.000, the mitigated result performs much better than unmitigated."
   ]
  }
 ],
 "metadata": {
  "kernelspec": {
   "display_name": "Python 3 (ipykernel)",
   "language": "python",
   "name": "python3"
  },
  "language_info": {
   "codemirror_mode": {
    "name": "ipython",
    "version": 3
   },
   "file_extension": ".py",
   "mimetype": "text/x-python",
   "name": "python",
   "nbconvert_exporter": "python",
   "pygments_lexer": "ipython3",
   "version": "3.10.9"
  }
 },
 "nbformat": 4,
 "nbformat_minor": 5
}
