{
 "cells": [
  {
   "cell_type": "code",
   "execution_count": 1,
   "id": "55adcac6-26ef-487c-9301-8b556771b787",
   "metadata": {},
   "outputs": [],
   "source": [
    "from typing import List\n",
    "import copy\n",
    "import pennylane as qml\n",
    "import pennylane.numpy as np\n",
    "from qiskit_ibm_provider import IBMProvider\n",
    "from mitiq.zne.inference import RichardsonFactory\n",
    "from mitiq.zne.scaling import fold_global"
   ]
  },
  {
   "cell_type": "code",
   "execution_count": 2,
   "id": "c06071d4-dcf6-48ff-a8fe-6be06cb3c133",
   "metadata": {},
   "outputs": [],
   "source": [
    "SIMULATION_MODE = True    # running from local or real hardware"
   ]
  },
  {
   "cell_type": "markdown",
   "id": "d40b24df-6461-4c8c-9e13-6588c49f0705",
   "metadata": {},
   "source": [
    "##  Build a simple noise model with depolarizing noise"
   ]
  },
  {
   "cell_type": "code",
   "execution_count": 3,
   "id": "eb8bdd17-d715-4b2b-b0a0-325abfbc2b56",
   "metadata": {},
   "outputs": [],
   "source": [
    "if SIMULATION_MODE:\n",
    "    noise_strength = 0.05\n",
    "    dev_noise_free = qml.device(\"default.mixed\", wires=2)\n",
    "    dev = qml.transforms.insert(\n",
    "        dev_noise_free,\n",
    "        qml.DepolarizingChannel,\n",
    "        noise_strength\n",
    "    )\n",
    "elif IBMProvider.saved_accounts() and USE_REAL_HARDWARE:\n",
    "    provider = IBMProvider()\n",
    "    dev = qml.device(\n",
    "        \"qiskit.ibmq\",\n",
    "        wires=2,\n",
    "        backend=\"ibmq_qasm_simulator\",\n",
    "        provider=provider\n",
    "    )    "
   ]
  },
  {
   "cell_type": "code",
   "execution_count": 4,
   "id": "602310c8-45c5-404e-badf-f114e3458bec",
   "metadata": {},
   "outputs": [],
   "source": [
    "def circuit():\n",
    "    \"\"\"\n",
    "    @A circuit preparing a Bell state\n",
    "    \"\"\"\n",
    "    qml.Hadamard(wires=0)\n",
    "    qml.CNOT(wires=[0, 1])\n",
    "    return qml.expval(qml.PauliZ(0) @ qml.PauliZ(1))"
   ]
  },
  {
   "cell_type": "markdown",
   "id": "5a83aa7e-2d3c-4e5f-933f-b7f7606d616e",
   "metadata": {},
   "source": [
    "Zero-noise extrapolation (ZNE) is a noise mitigation technique. It works by intentionally scaling the noise of a quantum circuit to then extrapolate the zero-noise limit of an observable of interest. In this task, you will build a simple ZNE function from scratch:\n",
    "\n",
    "- [x] Build a simple noise model with depolarizing noise \n",
    "- [x] Create different circuits to test your noise models and choose the observable to measure \n",
    "- [ ] Apply the unitary folding method. \n",
    "- [ ] Apply the extrapolation method to get the zero-noise limit. Different extrapolation methods achieve different results, such as Linear, polynomial, and exponential.\n",
    "- [x] Compare mitigated and unmitigated results \n",
    "- [ ] Bonus: Run your ZNE function in real quantum hardware through the IBM Quantum Service\n",
    "\n",
    "Check the Mitiq documentation for references. You are not allowed to use the functions from Mitiq or any other frameworks where ZNE is already implemented. \n"
   ]
  },
  {
   "cell_type": "markdown",
   "id": "e097a02c-0c2d-47d2-bdc1-fcb6a7b8ae6b",
   "metadata": {},
   "source": [
    "## Applying unitary folding method"
   ]
  },
  {
   "cell_type": "markdown",
   "id": "55626201-2b4a-4818-98cc-d5c4398bf3d1",
   "metadata": {},
   "source": [
    "### Implement"
   ]
  },
  {
   "cell_type": "code",
   "execution_count": 5,
   "id": "ef45c9cd-5457-4c44-a7d3-3f6d1666d4a9",
   "metadata": {},
   "outputs": [],
   "source": [
    "def unitary_fold(circuit, scale_factor: int):\n",
    "    # original ops\n",
    "    circuit()\n",
    "    original_ops = circuit.tape.operations\n",
    "    ops = circuit.tape.copy(copy_operations=True).operations\n",
    "    n, s = divmod(scale_factor - 1, 2)    \n",
    "    # take all the gate, append and complex conjugate\n",
    "    # For the 1st part  (U^H U)**n\n",
    "    for i in range(n):\n",
    "        for op in original_ops[::-1]:            \n",
    "            ops.append(qml.adjoint(copy.copy(op)))\n",
    "\n",
    "        for op in original_ops:            \n",
    "            ops.append(op)\n",
    "    \n",
    "    # For the 2nd part (L_d^H .. L_s^H) (L_s .. L_d)    \n",
    "    if s > 0:\n",
    "        last_layers = original_ops[-s:]\n",
    "        for op in last_layers[::-1]:\n",
    "            ops.append(qml.adjoint(copy.copy(op)))\n",
    "        for i in last_layers:\n",
    "            ops.append(op)            \n",
    "\n",
    "    # Return list of op to create the circuit\n",
    "    return ops, circuit.tape.measurements\n",
    "\n",
    "\n",
    "@qml.qnode(dev)\n",
    "def circuit_from_ops(operations: List, measurements: List):    \n",
    "    for op in operations:\n",
    "        qml.apply(op)        \n",
    "    return qml.apply(measurements[0])"
   ]
  },
  {
   "cell_type": "code",
   "execution_count": 6,
   "id": "ff947884-95ac-4814-97d1-9bef90982fe6",
   "metadata": {},
   "outputs": [],
   "source": [
    "device_circuit = qml.QNode(circuit, dev)\n",
    "scale_factors = range(1,5)\n",
    "results = []\n",
    "for scale_factor in scale_factors:\n",
    "    ops, measurements = unitary_fold(device_circuit, 2)    \n",
    "    results.append(circuit_from_ops(ops, measurements))    \n",
    "    # print(qml.draw(circuit_from_ops)(ops, measurements))"
   ]
  },
  {
   "cell_type": "code",
   "execution_count": 7,
   "id": "28bdd626-758b-428a-ab07-2055b769cafe",
   "metadata": {},
   "outputs": [],
   "source": [
    "# 0: ──H─╭●─┤ ╭<Z@Z>\n",
    "# 1: ────╰X─┤ ╰<Z@Z>\n",
    "\n",
    "# 0: ──H─╭●─╭●─╭●─┤ ╭<Z@Z>\n",
    "# 1: ────╰X─╰X─╰X─┤ ╰<Z@Z>\n",
    "\n",
    "# 0: ──H─╭●─╭●──H──H─╭●─┤ ╭<Z@Z>\n",
    "# 1: ────╰X─╰X───────╰X─┤ ╰<Z@Z>\n",
    "\n",
    "# 0: ──H─╭●─╭●──H──H─╭●─╭●─╭●─┤ ╭<Z@Z>\n",
    "# 1: ────╰X─╰X───────╰X─╰X─╰X─┤ ╰<Z@Z>\n",
    "\n",
    "# 0: ──H─╭●─╭●──H──H─╭●─╭●──H──H─╭●─┤ ╭<Z@Z>\n",
    "# 1: ────╰X─╰X───────╰X─╰X───────╰X─┤ ╰<Z@Z>\n",
    "\n",
    "# 0: ──H─╭●─╭●──H──H─╭●─╭●──H──H─╭●─╭●─╭●─┤ ╭<Z@Z>\n",
    "# 1: ────╰X─╰X───────╰X─╰X───────╰X─╰X─╰X─┤ ╰<Z@Z>\n",
    "\n",
    "# 0: ──H─╭●─╭●──H──H─╭●─╭●──H──H─╭●─╭●──H──H─╭●─┤ ╭<Z@Z>\n",
    "# 1: ────╰X─╰X───────╰X─╰X───────╰X─╰X───────╰X─┤ ╰<Z@Z>\n",
    "\n",
    "# 0: ──H─╭●─╭●──H──H─╭●─╭●──H──H─╭●─╭●──H──H─╭●─╭●─╭●─┤ ╭<Z@Z>\n",
    "# 1: ────╰X─╰X───────╰X─╰X───────╰X─╰X───────╰X─╰X─╰X─┤ ╰<Z@Z>"
   ]
  },
  {
   "cell_type": "markdown",
   "id": "1e3ddbfd-ac13-46b5-91c8-a916b878ebdd",
   "metadata": {},
   "source": [
    "## Extrapolation"
   ]
  },
  {
   "cell_type": "markdown",
   "id": "55ec05e6-a2b0-4366-83cc-55a06f62a69b",
   "metadata": {},
   "source": [
    "### Linear extrapolation"
   ]
  },
  {
   "cell_type": "code",
   "execution_count": 8,
   "id": "34f50130-dd95-4810-bcac-78e0ae5dcbee",
   "metadata": {},
   "outputs": [],
   "source": [
    "def linear_extrapolation(x, y):\n",
    "    opt_params = np.polyfit(x, y, 1)\n",
    "    return opt_params[-1]"
   ]
  },
  {
   "cell_type": "markdown",
   "id": "f3813422-7905-4455-8c13-18e7c4f74214",
   "metadata": {},
   "source": [
    "### Polinomial"
   ]
  },
  {
   "cell_type": "code",
   "execution_count": 9,
   "id": "57de3727-4706-4e2e-b61b-80925ed50dea",
   "metadata": {},
   "outputs": [],
   "source": [
    "def polinomial_extraplation(x, y, order):\n",
    "    opt_params = np.polyfit(x, y, order)\n",
    "    return opt_params[-1]"
   ]
  },
  {
   "cell_type": "markdown",
   "id": "5ec4bd6d-ebbe-41db-8df1-492cb1515c59",
   "metadata": {},
   "source": [
    "### Exponential"
   ]
  },
  {
   "cell_type": "code",
   "execution_count": 10,
   "id": "8b5013ff-8200-4ff2-87b7-548c3b31b798",
   "metadata": {},
   "outputs": [],
   "source": [
    "def exponential_extraplation(x, y, order):\n",
    "    pass"
   ]
  },
  {
   "cell_type": "code",
   "execution_count": 11,
   "id": "2ccc670f-6580-493b-b6e1-938a90fb013c",
   "metadata": {},
   "outputs": [
    {
     "name": "stdout",
     "output_type": "stream",
     "text": [
      "0.7082455967078745\n",
      "0.7082455967078735\n"
     ]
    }
   ],
   "source": [
    "print(linear_extrapolation(scale_factors, results))\n",
    "print(polinomial_extraplation(scale_factors, results, len(scale_factors)-1))"
   ]
  },
  {
   "cell_type": "markdown",
   "id": "12aa96de-782a-481b-8c77-1dc1ffb071b0",
   "metadata": {},
   "source": [
    "## Create a reference ZNE mitigated circuit"
   ]
  },
  {
   "cell_type": "code",
   "execution_count": 12,
   "id": "83abb5c6-91b4-4687-b281-f9d5a57bedbf",
   "metadata": {},
   "outputs": [],
   "source": [
    "scale_factors = [1,2,3,4,5,6,7]\n",
    "\n",
    "error_mitigated_device_circuit = qml.transforms.mitigate_with_zne(\n",
    "    device_circuit,\n",
    "    scale_factors,\n",
    "    folding = fold_global,    \n",
    "    extrapolate = RichardsonFactory.extrapolate,\n",
    ")"
   ]
  },
  {
   "cell_type": "markdown",
   "id": "c16e0927-2c6c-4898-b404-59feecd8faf4",
   "metadata": {},
   "source": [
    "## Compare the results between noisy circuit, reference method, and implemented method"
   ]
  },
  {
   "cell_type": "code",
   "execution_count": 13,
   "id": "8d428e10-2c17-43ba-971b-49cbb3939318",
   "metadata": {},
   "outputs": [
    {
     "name": "stdout",
     "output_type": "stream",
     "text": [
      "Unmitigated result 0.8711111111111454\n",
      "Mitigated result   2.05223594978849\n"
     ]
    }
   ],
   "source": [
    "unmitigated = device_circuit()\n",
    "mitigated = error_mitigated_device_circuit()\n",
    "print(f\"Unmitigated result {unmitigated}\")\n",
    "print(f\"Mitigated result   {mitigated}\")"
   ]
  }
 ],
 "metadata": {
  "kernelspec": {
   "display_name": "Python 3 (ipykernel)",
   "language": "python",
   "name": "python3"
  },
  "language_info": {
   "codemirror_mode": {
    "name": "ipython",
    "version": 3
   },
   "file_extension": ".py",
   "mimetype": "text/x-python",
   "name": "python",
   "nbconvert_exporter": "python",
   "pygments_lexer": "ipython3",
   "version": "3.10.9"
  }
 },
 "nbformat": 4,
 "nbformat_minor": 5
}
