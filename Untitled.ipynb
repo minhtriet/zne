{
 "cells": [
  {
   "cell_type": "code",
   "execution_count": 1,
   "id": "7c588151-5a28-4354-b371-f14c8db5e34e",
   "metadata": {},
   "outputs": [],
   "source": [
    "import pennylane as qml\n",
    "\n",
    "def circuit():\n",
    "    for _ in range(10):\n",
    "        qml.PauliX(wires=0)\n",
    "    return qml.expval(qml.PauliZ(0))"
   ]
  },
  {
   "cell_type": "code",
   "execution_count": 2,
   "id": "94832b3f-e346-45e2-b8a0-859c400f1849",
   "metadata": {},
   "outputs": [],
   "source": [
    "import qiskit\n",
    "from qiskit_ibm_provider import IBMProvider\n",
    "\n",
    "USE_REAL_HARDWARE = False\n",
    "\n",
    "if IBMProvider.saved_accounts() and USE_REAL_HARDWARE:\n",
    "    provider = IBMProvider()\n",
    "    dev = qml.device(\n",
    "        \"qiskit.ibmq\",\n",
    "        wires=1,\n",
    "        backend=\"ibmq_qasm_simulator\",\n",
    "        provider=provider\n",
    "    )\n",
    "else:\n",
    "    noise_strength = 0.05\n",
    "    dev_noise_free = qml.device(\"default.mixed\", wires=1)\n",
    "    dev = qml.transforms.insert(\n",
    "        dev_noise_free,\n",
    "        qml.AmplitudeDamping,\n",
    "        noise_strength\n",
    "    )"
   ]
  },
  {
   "cell_type": "code",
   "execution_count": 3,
   "id": "1e472c7c-650d-4ea4-ad6b-8cb7261094a2",
   "metadata": {},
   "outputs": [],
   "source": [
    "from mitiq.zne.scaling import fold_global\n",
    "from mitiq.zne.inference import RichardsonFactory\n",
    "\n",
    "scale_factors = [1, 2, 3]\n",
    "noise_scale_method = fold_global\n",
    "\n",
    "device_circuit = qml.QNode(circuit, dev)\n",
    "error_mitigated_device_circuit = qml.transforms.mitigate_with_zne(\n",
    "    device_circuit,\n",
    "    scale_factors,\n",
    "    noise_scale_method,\n",
    "    RichardsonFactory.extrapolate,\n",
    ")"
   ]
  },
  {
   "cell_type": "code",
   "execution_count": 4,
   "id": "7903891d-8e6a-4d1a-bdb5-0d4da3eaefe9",
   "metadata": {},
   "outputs": [
    {
     "name": "stdout",
     "output_type": "stream",
     "text": [
      "Unmitigated result 0.609\n",
      "Mitigated result   0.937\n"
     ]
    }
   ],
   "source": [
    "unmitigated = device_circuit()\n",
    "mitigated = error_mitigated_device_circuit()\n",
    "print(f\"Unmitigated result {unmitigated:.3f}\")\n",
    "print(f\"Mitigated result   {mitigated:.3f}\")"
   ]
  }
 ],
 "metadata": {
  "kernelspec": {
   "display_name": "Python 3 (ipykernel)",
   "language": "python",
   "name": "python3"
  },
  "language_info": {
   "codemirror_mode": {
    "name": "ipython",
    "version": 3
   },
   "file_extension": ".py",
   "mimetype": "text/x-python",
   "name": "python",
   "nbconvert_exporter": "python",
   "pygments_lexer": "ipython3",
   "version": "3.10.9"
  }
 },
 "nbformat": 4,
 "nbformat_minor": 5
}
